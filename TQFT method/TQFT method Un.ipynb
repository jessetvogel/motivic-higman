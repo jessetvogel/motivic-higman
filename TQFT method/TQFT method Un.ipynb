{
 "cells": [
  {
   "cell_type": "code",
   "execution_count": null,
   "metadata": {},
   "outputs": [],
   "source": [
    "import sympy as sp\n",
    "from grothendieck_solver import System, Solver\n",
    "import re\n",
    "import os\n",
    "import itertools\n",
    "\n",
    "main = (__name__ == '__main__')\n",
    "jupyter = (get_ipython().__class__.__name__ == 'ZMQInteractiveShell')\n",
    "\n",
    "n = 2\n",
    "q = sp.Symbol('q')\n",
    "\n",
    "# Class of the group\n",
    "Un = q**(n * (n - 1) // 2)\n",
    "Tn = q**(n * (n - 1) // 2) * (q - 1)**(n - 1)"
   ]
  },
  {
   "cell_type": "code",
   "execution_count": null,
   "metadata": {},
   "outputs": [],
   "source": [
    "solver = Solver()\n",
    "\n",
    "# Util function\n",
    "def compute_system(gens, cl_eqs, op_eqs):\n",
    "    return solver.compute_grothendieck_class(System(gens, cl_eqs, op_eqs))"
   ]
  },
  {
   "cell_type": "code",
   "execution_count": null,
   "metadata": {},
   "outputs": [],
   "source": [
    "def assertion(description, value):\n",
    "    if value:\n",
    "        print(f'[✅] {description}')\n",
    "    else:\n",
    "        print(f'[❌] {description}')\n",
    "        assert False"
   ]
  },
  {
   "cell_type": "code",
   "execution_count": null,
   "metadata": {},
   "outputs": [],
   "source": [
    "progress_text = ''\n",
    "\n",
    "def progress_update(f, text):\n",
    "    global progress_text\n",
    "    progress_text = text\n",
    "    percentage = int(100000 * f) / 1000\n",
    "    print(f'[⏳ {percentage}%] {text}', end='\\r')\n",
    "    \n",
    "def progress_done(text = None):\n",
    "    global progress_text\n",
    "    if text != None:\n",
    "        progress_text = text\n",
    "    print(f'[👍] {progress_text}         ')"
   ]
  },
  {
   "cell_type": "code",
   "execution_count": null,
   "metadata": {},
   "outputs": [],
   "source": [
    "import multiprocessing\n",
    "\n",
    "if main:\n",
    "    manager = multiprocessing.Manager()\n",
    "    tasks_done = manager.Value('i', 0) # a shared variable indicates how many tasks are done\n",
    "    tasks_done_lock = manager.Lock() # a lock for updating the shared variables\n",
    "\n",
    "def compute_parallel_helper(f, args, stats):    \n",
    "    # Do the computation\n",
    "    value = f(*args)\n",
    "    \n",
    "    # Update stats\n",
    "    tasks_done, tasks_done_lock, n, description = stats\n",
    "    with tasks_done_lock:\n",
    "        tasks_done.value += 1\n",
    "        progress_update(tasks_done.value / n, description)\n",
    "        \n",
    "        with open('parallel_computations.txt', 'a') as file:\n",
    "            file.write(f'{f.__name__}({\",\".join(map(str, args))}) = {value}\\n')\n",
    "    \n",
    "    # Return the value\n",
    "    return value\n",
    "\n",
    "def compute_parallel(f, args_array, description = ''):\n",
    "    if jupyter:\n",
    "        return compute_non_parallel(f, args_array, description)\n",
    "    \n",
    "    assert(main) # must be called from main process\n",
    "    n = len(args_array) # number of tasks\n",
    "    global tasks_done, tasks_done_lock\n",
    "    with tasks_done_lock: # reset counter\n",
    "        tasks_done.value = 0 \n",
    "    \n",
    "    with multiprocessing.Pool() as pool:\n",
    "        results = [ pool.apply_async(compute_parallel_helper, (f, args, (tasks_done, tasks_done_lock, n, description))) for args in args_array ]\n",
    "        values = [ r.get() for r in results ]\n",
    "        progress_done(description)\n",
    "    return values\n",
    "\n",
    "def compute_non_parallel(f, args_array, description = ''):\n",
    "    n = len(args_array) # number of tasks    \n",
    "    values = []\n",
    "    for i, args in enumerate(args_array):\n",
    "        progress_update(i / n, description)\n",
    "        values.append(f(*args))\n",
    "    progress_done()\n",
    "    return values"
   ]
  },
  {
   "cell_type": "markdown",
   "metadata": {},
   "source": [
    "## Chapter 0: Define variables"
   ]
  },
  {
   "cell_type": "code",
   "execution_count": null,
   "metadata": {},
   "outputs": [],
   "source": [
    "# Define lots of variables\n",
    "A = sp.Matrix([ [ (sp.Symbol('a_{{{},{}}}'.format(i, j)) if i < j else 1) if j >= i else 0 for j in range(n) ] for i in range(n) ])\n",
    "B = sp.Matrix([ [ (sp.Symbol('b_{{{},{}}}'.format(i, j)) if i < j else 1) if j >= i else 0 for j in range(n) ] for i in range(n) ])\n",
    "C = sp.Matrix([ [ (sp.Symbol('c_{{{},{}}}'.format(i, j)) if i < j else 1) if j >= i else 0 for j in range(n) ] for i in range(n) ])\n",
    "D = sp.Matrix([ [ (sp.Symbol('d_{{{},{}}}'.format(i, j)) if i < n - 1 else 1) if i == j else 0 for j in range(n) ] for i in range(n) ])\n",
    "X = sp.Matrix([ [ (sp.Symbol('x_{{{},{}}}'.format(i, j)) if i < n - 1 else 1) if j >= i else 0 for j in range(n) ] for i in range(n) ])\n",
    "Y = sp.Matrix([ [ (sp.Symbol('y_{{{},{}}}'.format(i, j)) if i < n - 1 else 1) if j >= i else 0 for j in range(n) ] for i in range(n) ])\n",
    "\n",
    "A_vars = [ x for x in A if x != 0 and x != 1 ]\n",
    "B_vars = [ x for x in B if x != 0 and x != 1 ]\n",
    "C_vars = [ x for x in C if x != 0 and x != 1 ]\n",
    "D_vars = [ x for x in D if x != 0 and x != 1 ]\n",
    "X_vars = [ x for x in X if x != 0 and x != 1 ]\n",
    "Y_vars = [ x for x in Y if x != 0 and x != 1 ]\n",
    "\n",
    "A_det, B_det, C_det, D_det, X_det, Y_det = A.det(), B.det(), C.det(), D.det(), X.det(), Y.det()\n",
    "\n",
    "A_adj = sp.simplify(A.inv() * A_det)\n",
    "B_adj = sp.simplify(B.inv() * B_det)\n",
    "C_adj = sp.simplify(C.inv() * C_det)\n",
    "D_adj = sp.simplify(D.inv() * D_det)\n",
    "X_adj = sp.simplify(X.inv() * X_det)\n",
    "Y_adj = sp.simplify(Y.inv() * Y_det)"
   ]
  },
  {
   "cell_type": "markdown",
   "metadata": {},
   "source": [
    "## Chapter 1: Conjugacy classes"
   ]
  },
  {
   "cell_type": "code",
   "execution_count": null,
   "metadata": {},
   "outputs": [],
   "source": [
    "# Load representatives of unipotent conjugacy classes\n",
    "unipotent_representatives = []\n",
    "with open(f'data/U{n}_unipotent_representatives.txt', 'r') as file:\n",
    "    for line in file:\n",
    "        unipotent_representatives.append(sp.Matrix(eval(line, {'__builtins__': None}, {})))\n",
    "\n",
    "# Let M be the number of unipotent conjugacy classes        \n",
    "M = len(unipotent_representatives)\n",
    "\n",
    "if main:\n",
    "    print(f'[👉] Unipotent group of rank {n} has {M} conjugacy classes.')\n",
    "    \n",
    "# All representatives are unipotent_representatives\n",
    "representatives = unipotent_representatives\n",
    "N = M"
   ]
  },
  {
   "cell_type": "code",
   "execution_count": null,
   "metadata": {},
   "outputs": [],
   "source": [
    "# Find the equations defining the closure of the conjugacy class of a given representative g\n",
    "def find_closed_conjugacy_equations(g):\n",
    "    # Some entries of g can be variables, take those into account\n",
    "    g_vars = list(set(x for x in g if x.is_Symbol))\n",
    "    # Compute a general conjugate of g\n",
    "    M = sp.expand(X * g * X_adj)    \n",
    "    # Find equations y_i - f_i = 0\n",
    "    X_det_inv = sp.Symbol('{\\\\det(X)^{-1}}')\n",
    "    eqs = [ X.det() * X_det_inv - 1 ] # Note: it is important that the determinant of X is invertible. However, we cannot simply impose det(X) = 1, which would give too many syzygies!\n",
    "    for i in range(n):\n",
    "        for j in range(i, n):\n",
    "            eqs.append(Y[i, j] * X.det() - M[i, j])\n",
    "    \n",
    "    # Since we are only looking for syzygies, we can remove all equations that uniquely contain some variable x_{i, j}\n",
    "    # (and keep doing that as long as we can)\n",
    "    while True:\n",
    "        for x in X_vars:\n",
    "            eqs_with_x = [ eq for eq in eqs if x in eq.free_symbols ]\n",
    "            if len(eqs_with_x) == 1:\n",
    "                eqs.remove(eqs_with_x[0])\n",
    "                break\n",
    "        else:\n",
    "            break\n",
    "                \n",
    "    # Eliminate variables in X and g\n",
    "    v = [ X_det_inv ] + g_vars + X_vars + Y_vars # Note: important that (g_vars and) X_vars comes before Y_vars, due to 'lex' ordering!\n",
    "    grbasis = sp.groebner(eqs, *v, order = 'lex', method = 'f5b')\n",
    "    \n",
    "    # Relations are all equations in the Gröbner basis without any x's\n",
    "    relations = [ eq for eq in grbasis if all(x not in eq.free_symbols for x in X_vars + [ X_det_inv ]) ]\n",
    "        \n",
    "    return relations"
   ]
  },
  {
   "cell_type": "code",
   "execution_count": null,
   "metadata": {},
   "outputs": [],
   "source": [
    "# Applies equations `eqs` to the matrix `M`. Note that the equations are equations in the variables Y[i, j]\n",
    "def apply_equations(eqs, M):\n",
    "    # Make a dictionary of substitutions\n",
    "    S = { Y[i, j]: M[i, j] for i in range(n) for j in range(i, n) }\n",
    "    \n",
    "    # Convert equations\n",
    "    return [ eq.subs(S) for eq in eqs ]"
   ]
  },
  {
   "cell_type": "code",
   "execution_count": null,
   "metadata": {},
   "outputs": [],
   "source": [
    "closed_conjugacy_equations = {}\n",
    "closed_conjugacy_classes = {}"
   ]
  },
  {
   "cell_type": "code",
   "execution_count": null,
   "metadata": {
    "scrolled": true
   },
   "outputs": [],
   "source": [
    "def compute_closed_unipotent_conjugacy_equations():\n",
    "    for i in range(M):\n",
    "        progress_update(i / M, 'Computing closed unipotent conjugacy equations ...')\n",
    "        eqs = find_closed_conjugacy_equations(representatives[i])\n",
    "        closed_conjugacy_equations[i] = eqs\n",
    "    progress_done()\n",
    "\n",
    "def compute_closed_unipotent_conjugacy_classes():\n",
    "    for i in range(M):\n",
    "        progress_update(i / M, 'Computing closed conjugacy classes ...')\n",
    "        g = representatives[i]\n",
    "        g_vars = list(set(x for x in g if x.is_Symbol))\n",
    "        v = A_vars + g_vars\n",
    "        eqs = closed_conjugacy_equations[i]\n",
    "        cl = compute_system(v, apply_equations(eqs, A), g_vars)\n",
    "        closed_conjugacy_classes[i] = cl\n",
    "    progress_done()"
   ]
  },
  {
   "cell_type": "code",
   "execution_count": null,
   "metadata": {},
   "outputs": [],
   "source": [
    "# If results have already been computed, just read them\n",
    "if os.path.isfile(f'data/U{n}_closed_conjugacy_equations.txt'):\n",
    "    print('[🗂️] Reading closed conjugacy equations ...')\n",
    "    \n",
    "    # Read equations\n",
    "    with open(f'data/U{n}_closed_conjugacy_equations.txt', 'r') as file:\n",
    "        def convert_symbols(match):\n",
    "            return f'{match.group(1).upper()}[{match.group(2)},{match.group(3)}]'\n",
    "        s = re.sub(r'(\\w)_{(\\d+),(\\d+)}', convert_symbols, file.read())\n",
    "        exec(s)\n",
    "else:\n",
    "    # If they have not been computed yet, compute them and store them\n",
    "    compute_closed_unipotent_conjugacy_equations()\n",
    "    \n",
    "    # Store equations\n",
    "    with open(f'data/U{n}_closed_conjugacy_equations.txt', 'w') as file:\n",
    "        file.write('closed_conjugacy_equations = {\\n')\n",
    "        for i in closed_conjugacy_equations:\n",
    "            file.write(f' {i}: {str(closed_conjugacy_equations[i])},\\n')\n",
    "        file.write('}\\n')\n",
    "        \n",
    "if os.path.isfile(f'data/U{n}_closed_conjugacy_classes.txt'):\n",
    "    print('[🗂️] Reading closed conjugacy classes ...')\n",
    "    \n",
    "    # Read classes\n",
    "    with open(f'data/U{n}_closed_conjugacy_classes.txt', 'r') as file:\n",
    "        exec(file.read())\n",
    "else:\n",
    "    # Compute classes from equations\n",
    "    compute_closed_unipotent_conjugacy_classes()\n",
    "    \n",
    "    # Store classes\n",
    "    with open(f'data/U{n}_closed_conjugacy_classes.txt', 'w') as file:\n",
    "        file.write('closed_conjugacy_classes = {\\n')\n",
    "        for i in closed_conjugacy_classes:\n",
    "            file.write(f' {i}: {str(closed_conjugacy_classes[i])},\\n')\n",
    "        file.write('}\\n')"
   ]
  },
  {
   "cell_type": "code",
   "execution_count": null,
   "metadata": {},
   "outputs": [],
   "source": [
    "# Find the ordering of the conjugacy classes:\n",
    "# We say that conjugacy class i <= conjugacy class j iff the closure of i is contained in the closure of j\n",
    "# Or equivalently, if the representative of class i satisfies the closed equations of class j\n",
    "\n",
    "conjugacy_ordering = {}"
   ]
  },
  {
   "cell_type": "code",
   "execution_count": null,
   "metadata": {},
   "outputs": [],
   "source": [
    "def compute_unipotent_conjugacy_ordering():\n",
    "    for i in range(M):\n",
    "        progress_update(i / M, 'Computing ordering of conjugacy classes ...')\n",
    "        js = []\n",
    "        for j in range(M):\n",
    "            g = representatives[j]\n",
    "            # g = g.subs({ D[l, l]: l + 17 for l in range(n - 1) }) # replace diagonal entries of representative with some `random` values\n",
    "            eqs = apply_equations(closed_conjugacy_equations[i], g)\n",
    "            if all(eq == 0 for eq in eqs):\n",
    "                js.append(j)\n",
    "        conjugacy_ordering[i] = js\n",
    "    progress_done()"
   ]
  },
  {
   "cell_type": "code",
   "execution_count": null,
   "metadata": {},
   "outputs": [],
   "source": [
    "if main:\n",
    "    compute_unipotent_conjugacy_ordering()"
   ]
  },
  {
   "cell_type": "code",
   "execution_count": null,
   "metadata": {},
   "outputs": [],
   "source": [
    "def has_loops(graph):\n",
    "    import copy\n",
    "    graph = copy.deepcopy(graph) # Make deep copy since we change the graph!\n",
    "    while True:\n",
    "        # If the graph is empty, it has no loops!\n",
    "        if len(graph) == 0:\n",
    "            return False\n",
    "        for x in graph:\n",
    "            # If the only y -> x is x -> x, then we might as well remove x from the graph\n",
    "            # Also, if the only x -> y is x -> x, we might as well remove x from the graph\n",
    "            ys_to_x = [ y for y in graph if x in graph[y] ]\n",
    "            if graph[x] == [x] or ys_to_x == [x]:\n",
    "                for y in ys_to_x:\n",
    "                    graph[y].remove(x)\n",
    "                del graph[x]\n",
    "                break # break to while-loop to start over\n",
    "        else:\n",
    "            print(graph)\n",
    "            return True"
   ]
  },
  {
   "cell_type": "code",
   "execution_count": null,
   "metadata": {
    "scrolled": true
   },
   "outputs": [],
   "source": [
    "if main:\n",
    "    # Make sure that the ordering has no loops!\n",
    "    assertion('Ordering of conjugacy classes is loop-free', not has_loops(conjugacy_ordering))"
   ]
  },
  {
   "cell_type": "code",
   "execution_count": null,
   "metadata": {},
   "outputs": [],
   "source": [
    "def create_inclusion_exclusion_matrix(graph):\n",
    "    N = len(graph)\n",
    "    inclusion_exclusion_matrix = sp.zeros(N, N)\n",
    "    created_row = [False] * N\n",
    "    \n",
    "    def create_row(j):\n",
    "        # If already created row, nothing to do!\n",
    "        if created_row[j]:\n",
    "            return\n",
    "        \n",
    "        # First create all columns k for which k <= j\n",
    "        # Then, row[j] = e_j - \\sum_{k \\to j, k \\ne j} row[k]\n",
    "        inclusion_exclusion_matrix[j, j] = 1\n",
    "        for k in graph[j]:\n",
    "            if k == j:\n",
    "                continue\n",
    "                \n",
    "            assert inclusion_exclusion_matrix[k, j] == 0\n",
    "                \n",
    "            create_row(k)\n",
    "            inclusion_exclusion_matrix[j, :] -= inclusion_exclusion_matrix[k, :]\n",
    "        \n",
    "        # Mark row as created\n",
    "        created_row[j] = True\n",
    "    \n",
    "    for j in range(N):\n",
    "        create_row(j)\n",
    "    \n",
    "    return inclusion_exclusion_matrix"
   ]
  },
  {
   "cell_type": "code",
   "execution_count": null,
   "metadata": {},
   "outputs": [],
   "source": [
    "if main:\n",
    "    # Compute the inclusion-exclusion matrix\n",
    "    inclusion_exclusion_matrix = create_inclusion_exclusion_matrix(conjugacy_ordering)"
   ]
  },
  {
   "cell_type": "code",
   "execution_count": null,
   "metadata": {},
   "outputs": [],
   "source": [
    "if main:\n",
    "    # Compute conjugacy classes using transition matrix\n",
    "    conjugacy_classes = {}\n",
    "    for i in range(M):\n",
    "        conjugacy_classes[i] = sp.factor(sum(inclusion_exclusion_matrix[i, j] * closed_conjugacy_classes[j] for j in range(M)))"
   ]
  },
  {
   "cell_type": "code",
   "execution_count": null,
   "metadata": {},
   "outputs": [],
   "source": [
    "# Compute stabilizers of the representatives\n",
    "# Note that these stabilizers can be shown to be constant, so we can simply pick some values for the variable diagonals\n",
    "\n",
    "# The orbit of any representative can be computed as the class of the group divided by the class of the stabilizer\n",
    "stabilizer_classes = {}\n",
    "orbit_classes = {}\n",
    "\n",
    "def compute_orbits_stabilizers():    \n",
    "    for i in range(N):\n",
    "        progress_update(i / N, 'Computing stabilizers ...')\n",
    "        xi = representatives[i].subs({ D[l, l]: l + 17 for l in range(n - 1) })\n",
    "        eqs = list(eq for eq in sp.simplify(X * xi - xi * X) if eq != 0)\n",
    "        stabilizer_classes[i] = sp.factor(compute_system(X_vars, eqs, [ X[l, l] for l in range(n - 1) ]))\n",
    "    progress_done()\n",
    "\n",
    "    for i in range(N):\n",
    "        progress_update(i / N, 'Computing orbits ...')\n",
    "        orbit_classes[i] = Tn / stabilizer_classes[i]\n",
    "    progress_done()"
   ]
  },
  {
   "cell_type": "code",
   "execution_count": null,
   "metadata": {},
   "outputs": [],
   "source": [
    "if main:\n",
    "    compute_orbits_stabilizers()"
   ]
  },
  {
   "cell_type": "code",
   "execution_count": null,
   "metadata": {},
   "outputs": [],
   "source": [
    "if main:\n",
    "    # Do some checks on the transition matrix:\n",
    "    # (1) The sum of all conjugacy classes should be equal to the class of the group\n",
    "    # assertion('Conjugacy classes add up to group', sp.expand(q**(n * (n - 1) // 2) * (q - 1)**(n - 1) - sum(conjugacy_classes[i] for i in range(N))) == 0)\n",
    "\n",
    "    # (1) Sum of unipotent classes should be q**(n * (n - 1) // 2)\n",
    "    assertion(f'Unipotent conjugacy classes add up to q^{n * (n - 1) // 2}', sp.expand(q**(n * (n - 1) // 2) - sum([ conjugacy_classes[i] for i in range(M) ])) == 0)\n",
    "\n",
    "    # (2) The ordering has one connected component\n",
    "    assertion('Ordering has one connected component', sp.expand(sum([ inclusion_exclusion_matrix[j, i] for i in range(M) for j in range(M) ])) == 1)\n",
    "\n",
    "    # (3) All (unipotent) conjugacy classes have positive class\n",
    "    assertion('Conjugacy classes have positive leading coefficient', all(sp.LC(conjugacy_classes[i], q) > 0 for i in range(M)))\n",
    "\n",
    "    # (4) The orbits of unipotent classes should be equal to their orbits\n",
    "    assertion('Orbit unipotent conjugacy class equals conjugacy class', all(orbit_classes[i] == conjugacy_classes[i] for i in range(M)))"
   ]
  },
  {
   "cell_type": "markdown",
   "metadata": {},
   "source": [
    "## Chapter 2: Compute first column of TQFT"
   ]
  },
  {
   "cell_type": "code",
   "execution_count": null,
   "metadata": {},
   "outputs": [],
   "source": [
    "# Need to compute the coefficients E[i, j] = [{ A \\in G : [A, \\xi_j] \\in C_i }],\n",
    "# where i and j range over the unipotent conjugacy classes\n",
    "\n",
    "def compute_E(i, j):\n",
    "    # Compute commutator [A, \\xi_j]\n",
    "    xi = representatives[j]\n",
    "    comm = sp.simplify(A * xi * A.inv() * xi.inv())\n",
    "    \n",
    "    # Determine equations\n",
    "    eqs = apply_equations(closed_conjugacy_equations[i], comm)\n",
    "        \n",
    "    # Trick for conjugacy class of identity:\n",
    "    if i == 0:\n",
    "        eqs = list(eq for eq in sp.simplify(A * xi - xi * A) if eq != 0)\n",
    "        \n",
    "    # Solve system of equations (note that the entries on the diagonal of A should be non-zero, as well as the variables on the diagonal of xi)\n",
    "    cl = sp.factor(compute_system(A_vars, eqs, []))\n",
    "    \n",
    "    return cl"
   ]
  },
  {
   "cell_type": "code",
   "execution_count": null,
   "metadata": {},
   "outputs": [],
   "source": [
    "def compute_E_all():\n",
    "    # Compute coefficients F[i, j, k] in parallel\n",
    "    ijs = [ (i, j) for i in range(M) for j in range(N) ]\n",
    "    Es = compute_parallel(compute_E, ijs, 'Computing coefficients E[i, j] ...')\n",
    "    # Fill in coefficients in tensor\n",
    "    for u, (i, j) in enumerate(ijs):\n",
    "        E[i, j] = Es[u]"
   ]
  },
  {
   "cell_type": "code",
   "execution_count": null,
   "metadata": {},
   "outputs": [],
   "source": [
    "if main:\n",
    "    E = sp.MutableDenseNDimArray([ 0 ] *(M * N)).reshape(M, N)\n",
    "\n",
    "    # If results have already been computed, just read them\n",
    "    if os.path.isfile(f'data/U{n}_closed_E.txt'):\n",
    "        print('[🗂️] Reading coefficients E[i, j] ...')\n",
    "\n",
    "        # Read equations\n",
    "        with open(f'data/U{n}_closed_E.txt', 'r') as file:\n",
    "            for line in file:\n",
    "                exec(line)\n",
    "\n",
    "    else:\n",
    "        # If they have not been computed yet, compute them and store them    \n",
    "        compute_E_all()\n",
    "\n",
    "        # Store coefficients\n",
    "        with open(f'data/U{n}_closed_E.txt', 'w') as file:\n",
    "            for i in range(M):\n",
    "                for j in range(N):\n",
    "                        file.write(f'E[{i},{j}] = {str(E[i, j])}\\n')"
   ]
  },
  {
   "cell_type": "code",
   "execution_count": null,
   "metadata": {},
   "outputs": [],
   "source": [
    "if main:\n",
    "    # Now, compute the first column using the coefficients E[i, j] and the transition matrices\n",
    "    first_column = sp.zeros(M, 1)\n",
    "    for i in range(M):\n",
    "        progress_update(i / M, 'Computing first column of TQFT ...')\n",
    "        \n",
    "        value = 0\n",
    "        ks = [ k for k in range(M) if inclusion_exclusion_matrix[i, k] != 0 ]\n",
    "        for j in range(N):\n",
    "            value += sum(inclusion_exclusion_matrix[i, k] * E[k, j] * orbit_classes[j] for k in ks)\n",
    "        \n",
    "        first_column[i] = sp.factor(value / conjugacy_classes[i])\n",
    "    progress_done()"
   ]
  },
  {
   "cell_type": "code",
   "execution_count": null,
   "metadata": {},
   "outputs": [],
   "source": [
    "if main:\n",
    "    # Check weighted sum should add up to the class of the group squared\n",
    "    assertion(f'First column (weighted) sum is group squared = {Un**2}', 0 == sp.expand(Un**2 - sum(first_column[i] * conjugacy_classes[i] for i in range(M))))"
   ]
  },
  {
   "cell_type": "markdown",
   "metadata": {},
   "source": [
    "## Chapter 3: Compute other columns of TQFT"
   ]
  },
  {
   "cell_type": "code",
   "execution_count": null,
   "metadata": {},
   "outputs": [],
   "source": [
    "# Need to compute the coefficients F[i, j, k] = [{ g \\in C_j : g \\xi_k \\in C_i }],\n",
    "# where i, j, k range over the unipotent conjugacy classes\n",
    "\n",
    "def compute_F(i, j, k):\n",
    "    # Let g be a general unipotent element (take variables from A)\n",
    "    g = sp.Matrix(A)\n",
    "    for l in range(n):\n",
    "        g[l, l] = 1\n",
    "    g_vars = list(set([ x for x in g if x.is_Symbol ]))\n",
    "    \n",
    "    # Equations to solve for: g \\in C_j and g \\xi_k \\in C_i\n",
    "    eqs = apply_equations(closed_conjugacy_equations[j], g) + apply_equations(closed_conjugacy_equations[i], g * representatives[k])\n",
    "    \n",
    "    # Construct system from equations, and solve it\n",
    "    return compute_system(g_vars, eqs, [])"
   ]
  },
  {
   "cell_type": "code",
   "execution_count": null,
   "metadata": {
    "scrolled": true
   },
   "outputs": [],
   "source": [
    "def compute_F_all():\n",
    "    # Compute coefficients F[i, j, k] in parallel\n",
    "    ijks = [ (i, j, k) for i in range(M) for j in range(M) for k in range(M) ]\n",
    "    Fs = compute_parallel(compute_F, ijks, 'Computing coefficients F[i, j, k] ...')\n",
    "    # Fill in coefficients in tensor\n",
    "    for u, (i, j, k) in enumerate(ijks):\n",
    "        F[i, j, k] = Fs[u]"
   ]
  },
  {
   "cell_type": "code",
   "execution_count": null,
   "metadata": {},
   "outputs": [],
   "source": [
    "if main:\n",
    "    F = sp.MutableDenseNDimArray([ 0 ] *(M ** 3)).reshape(M, M, M)\n",
    "\n",
    "    # If results have already been computed, just read them\n",
    "    if os.path.isfile(f'data/U{n}_closed_F.txt'):\n",
    "        print('[🗂️] Reading coefficients F[i, j, k] ...')\n",
    "\n",
    "        # Read equations\n",
    "        with open(f'data/U{n}_closed_F.txt', 'r') as file:\n",
    "            for line in file:\n",
    "                exec(line)\n",
    "\n",
    "    else:\n",
    "        # If they have not been computed yet, compute them and store them    \n",
    "        compute_F_all()\n",
    "\n",
    "        # Store coefficients\n",
    "        with open(f'data/U{n}_closed_F.txt', 'w') as file:\n",
    "            for i in range(M):\n",
    "                for j in range(M):\n",
    "                    for k in range(M):\n",
    "                        file.write(f'F[{i},{j},{k}] = {str(F[i, j, k])}\\n')"
   ]
  },
  {
   "cell_type": "code",
   "execution_count": null,
   "metadata": {},
   "outputs": [],
   "source": [
    "# Now compute the matrix Z from the first column and the coefficients F[i, j, k]\n",
    "# In the below function, i and j range over the unipotent conjugacy classes!\n",
    "\n",
    "def compute_Z(i, j):\n",
    "    ms = [ m for m in range(M) if inclusion_exclusion_matrix[i, m] != 0 ] # Only consider the relevant m's and l's to prevent unnecessary computations\n",
    "    ls = [ l for l in range(M) if inclusion_exclusion_matrix[j, l] != 0 ]\n",
    "    \n",
    "    return sp.factor(sum(\n",
    "        inclusion_exclusion_matrix[i, m] *\n",
    "        inclusion_exclusion_matrix[j, l] *\n",
    "        F[m, l, k] *\n",
    "        first_column[k] *\n",
    "        conjugacy_classes[k] for k in range(M) for l in ls for m in ms) / conjugacy_classes[i])"
   ]
  },
  {
   "cell_type": "code",
   "execution_count": null,
   "metadata": {},
   "outputs": [],
   "source": [
    "if main:\n",
    "    Z = sp.zeros(M, M)\n",
    "    for i in range(M):\n",
    "        for j in range(M):\n",
    "            progress_update((i * M + j) / (M * M), 'Computing coefficients Z[i, j] ...')\n",
    "            Z[i, j] = compute_Z(i, j)\n",
    "    progress_done()"
   ]
  },
  {
   "cell_type": "code",
   "execution_count": null,
   "metadata": {},
   "outputs": [],
   "source": [
    "if main:\n",
    "    # Make sure that the first column of Z is still the first_column\n",
    "    assertion('First column is unchanged', Z[:, 0] == first_column)"
   ]
  },
  {
   "cell_type": "code",
   "execution_count": null,
   "metadata": {},
   "outputs": [],
   "source": [
    "def matlab_to_matrix(s):\n",
    "    return eval('sp.Matrix([' + s.replace('^','**').replace(';', '],[') + '])')"
   ]
  },
  {
   "cell_type": "code",
   "execution_count": null,
   "metadata": {},
   "outputs": [],
   "source": [
    "def matrix_to_matlab(M):\n",
    "    h, w = M.shape\n",
    "    return '[' + ';'.join([ ','.join([ str(M[i, j]).replace('**', '^') for j in range(w) ]) for i in range(h) ]) + ']'"
   ]
  },
  {
   "cell_type": "code",
   "execution_count": null,
   "metadata": {},
   "outputs": [],
   "source": [
    "# Store the matrix Z, so that it can be diagonalized using MATLAB\n",
    "if main:\n",
    "    with open(f'data/U{n}_Z.txt', 'w') as file:\n",
    "        file.write(matrix_to_matlab(Z))"
   ]
  },
  {
   "cell_type": "markdown",
   "metadata": {},
   "source": [
    "## Chapter 4: compute virtual classes"
   ]
  },
  {
   "cell_type": "code",
   "execution_count": null,
   "metadata": {},
   "outputs": [],
   "source": [
    "for g in range(5):\n",
    "    print(f'[R_{{U_{n}}}(Σ_{g})] = {(Z**g)[0, 0]}')"
   ]
  }
 ],
 "metadata": {
  "kernelspec": {
   "display_name": "Python 3 (ipykernel)",
   "language": "python",
   "name": "python3"
  },
  "language_info": {
   "codemirror_mode": {
    "name": "ipython",
    "version": 3
   },
   "file_extension": ".py",
   "mimetype": "text/x-python",
   "name": "python",
   "nbconvert_exporter": "python",
   "pygments_lexer": "ipython3",
   "version": "3.9.16"
  }
 },
 "nbformat": 4,
 "nbformat_minor": 4
}
