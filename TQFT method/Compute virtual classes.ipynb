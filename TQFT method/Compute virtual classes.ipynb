{
 "cells": [
  {
   "cell_type": "code",
   "execution_count": null,
   "id": "91a4b53c-3aee-4dcf-a9d8-10d110bbf96b",
   "metadata": {},
   "outputs": [],
   "source": [
    "import sympy as sp\n",
    "from zeta import simplify_zeta"
   ]
  },
  {
   "cell_type": "code",
   "execution_count": null,
   "id": "26ebc06c-2fe9-4c4b-a0fe-21514b01458d",
   "metadata": {},
   "outputs": [],
   "source": [
    "q, s, g = sp.symbols('q s g')"
   ]
  },
  {
   "cell_type": "code",
   "execution_count": null,
   "id": "e33d661f-e768-45f6-96aa-a2babe589162",
   "metadata": {},
   "outputs": [],
   "source": [
    "def matlab_to_matrix(s):\n",
    "    return eval('sp.Matrix([' + s.replace('^','**').replace(';', '],[') + '])')\n",
    "\n",
    "def matrix_to_matlab(M):\n",
    "    h, w = M.shape\n",
    "    return '[' + ';'.join([ ','.join([ str(M[i, j]).replace('**', '^') for j in range(w) ]) for i in range(h) ]) + ']'"
   ]
  },
  {
   "cell_type": "code",
   "execution_count": null,
   "id": "2b011880-0a9f-43a8-a7ef-055c66a0db4b",
   "metadata": {},
   "outputs": [],
   "source": [
    "VIRTUAL_CLASS_Tn = {}"
   ]
  },
  {
   "cell_type": "code",
   "execution_count": null,
   "id": "724d4d65-51b3-4452-9c52-93a58018dedb",
   "metadata": {},
   "outputs": [],
   "source": [
    "# T2\n",
    "with open('data/T2_Z.txt', 'r') as file:\n",
    "    Z_T2 = matlab_to_matrix(file.read())\n",
    "P_T2, D_T2 = Z_T2.diagonalize()\n",
    "P_inv_T2 = P_T2.inv()\n",
    "VIRTUAL_CLASS_Tn[2] = simplify_zeta((q - 1)**(2*s) * (P_T2 * D_T2**s * P_inv_T2)[0, 0]).subs(s, g)"
   ]
  },
  {
   "cell_type": "code",
   "execution_count": null,
   "id": "bdb5185a-2384-45d7-9ca9-fc39d5f527dd",
   "metadata": {},
   "outputs": [],
   "source": [
    "# T3\n",
    "with open('data/T3_Z.txt', 'r') as file:\n",
    "    Z_T3 = matlab_to_matrix(file.read())\n",
    "P_T3, D_T3 = Z_T3.diagonalize()\n",
    "P_inv_T3 = P_T3.inv()\n",
    "VIRTUAL_CLASS_Tn[3] = simplify_zeta((q - 1)**(2*s) * (P_T3 * D_T3**s * P_inv_T3)[0, 0]).subs(s, g)"
   ]
  },
  {
   "cell_type": "code",
   "execution_count": null,
   "id": "004efb4b-91bc-4c85-a051-4a4d62f33ec4",
   "metadata": {},
   "outputs": [],
   "source": [
    "# T4\n",
    "with open('data/T4_Z.txt', 'r') as file:\n",
    "    Z_T4 = matlab_to_matrix(file.read())\n",
    "with open('data/T4_P.txt', 'r') as file:\n",
    "    P_T4 = matlab_to_matrix(file.read())\n",
    "with open('data/T4_P_inv.txt', 'r') as file:\n",
    "    P_inv_T4 = matlab_to_matrix(file.read())\n",
    "D_T4 = P_inv_T4 * Z_T4 * P_T4\n",
    "for i in range(D_T4.shape[0]):\n",
    "    for j in range(D_T4.shape[1]):\n",
    "        if i == j:\n",
    "            D_T4[i, j] = sp.simplify(D_T4[i, j])\n",
    "        else:\n",
    "            D_T4[i, j] = 0\n",
    "VIRTUAL_CLASS_Tn[4] = simplify_zeta((q - 1)**(2*s) * (P_T4 * D_T4**s * P_inv_T4)[0, 0]).subs(s, g)"
   ]
  },
  {
   "cell_type": "code",
   "execution_count": null,
   "id": "f9c42a5d-737d-4da6-9140-f32672cbaa83",
   "metadata": {
    "tags": []
   },
   "outputs": [],
   "source": [
    "# T5\n",
    "with open('data/T5_Z.txt', 'r') as file:\n",
    "    Z_T5 = matlab_to_matrix(file.read())\n",
    "with open('data/T5_P.txt', 'r') as file:\n",
    "    P_T5 = matlab_to_matrix(file.read())\n",
    "with open('data/T5_P_inv.txt', 'r') as file:\n",
    "    P_inv_T5 = matlab_to_matrix(file.read())\n",
    "D_T5 = P_inv_T5 * Z_T5 * P_T5\n",
    "for i in range(D_T5.shape[0]):\n",
    "    for j in range(D_T5.shape[1]):\n",
    "        if i == j:\n",
    "            D_T5[i, j] = sp.factor(D_T5[i, j])\n",
    "        else:\n",
    "            D_T5[i, j] = 0\n",
    "VIRTUAL_CLASS_Tn[5] = simplify_zeta((q - 1)**(2*s) * (P_T5 * D_T5**s * P_inv_T5)[0, 0]).subs(s, g)"
   ]
  },
  {
   "cell_type": "code",
   "execution_count": null,
   "id": "6090447e-093c-442c-9896-347d44f6b1e9",
   "metadata": {},
   "outputs": [],
   "source": [
    "VIRTUAL_CLASS_Un = {}"
   ]
  },
  {
   "cell_type": "code",
   "execution_count": null,
   "id": "b5123209-a0f9-4173-b0c8-368679e3766a",
   "metadata": {},
   "outputs": [],
   "source": [
    "# U2\n",
    "with open('data/U2_Z.txt', 'r') as file:\n",
    "    Z_U2 = matlab_to_matrix(file.read())\n",
    "P_U2, D_U2 = Z_U2.diagonalize()\n",
    "P_inv_U2 = P_U2.inv()\n",
    "VIRTUAL_CLASS_Un[2] = simplify_zeta((P_U2 * D_U2**s * P_inv_U2)[0, 0]).subs(s, g)"
   ]
  },
  {
   "cell_type": "code",
   "execution_count": null,
   "id": "5813ded0-9742-46c5-a0ff-9fa4359198ad",
   "metadata": {},
   "outputs": [],
   "source": [
    "# U3\n",
    "with open('data/U3_Z.txt', 'r') as file:\n",
    "    Z_U3 = matlab_to_matrix(file.read())\n",
    "P_U3, D_U3 = Z_U3.diagonalize()\n",
    "P_inv_U3 = P_U3.inv()\n",
    "VIRTUAL_CLASS_Un[3] = simplify_zeta((P_U3 * D_U3**s * P_inv_U3)[0, 0]).subs(s, g)"
   ]
  },
  {
   "cell_type": "code",
   "execution_count": null,
   "id": "a0b40492-935d-49d8-9f1b-c733761ba3d6",
   "metadata": {},
   "outputs": [],
   "source": [
    "# U4\n",
    "with open('data/U4_Z.txt', 'r') as file:\n",
    "    Z_U4 = matlab_to_matrix(file.read())\n",
    "with open('data/U4_P.txt', 'r') as file:\n",
    "    P_U4 = matlab_to_matrix(file.read())\n",
    "# with open('data/U4_P_inv.txt', 'r') as file:\n",
    "#     P_inv_U4 = matlab_to_matrix(file.read())\n",
    "P_inv_U4 = P_U4.inv()\n",
    "D_U4 = P_inv_U4 * Z_U4 * P_U4\n",
    "for i in range(D_U4.shape[0]):\n",
    "    for j in range(D_U4.shape[1]):\n",
    "        if i == j:\n",
    "            D_U4[i, j] = sp.simplify(D_U4[i, j])\n",
    "        else:\n",
    "            D_U4[i, j] = 0\n",
    "VIRTUAL_CLASS_Un[4] = simplify_zeta((P_U4 * D_U4**s * P_inv_U4)[0, 0]).subs(s, g)"
   ]
  },
  {
   "cell_type": "code",
   "execution_count": null,
   "id": "02903bed-000e-495d-b8bb-6d114c5cf869",
   "metadata": {},
   "outputs": [],
   "source": [
    "# U5\n",
    "with open('data/U5_Z.txt', 'r') as file:\n",
    "    Z_U5 = matlab_to_matrix(file.read())\n",
    "with open('data/U5_P.txt', 'r') as file:\n",
    "    P_U5 = matlab_to_matrix(file.read())\n",
    "with open('data/U5_P_inv.txt', 'r') as file:\n",
    "    P_inv_U5 = matlab_to_matrix(file.read())\n",
    "D_U5 = P_inv_U5 * Z_U5 * P_U5\n",
    "for i in range(D_U5.shape[0]):\n",
    "    for j in range(D_U5.shape[1]):\n",
    "        if i == j:\n",
    "            D_U5[i, j] = sp.simplify(D_U5[i, j])\n",
    "        else:\n",
    "            D_U5[i, j] = 0\n",
    "VIRTUAL_CLASS_Un[5] = simplify_zeta((P_U5 * D_U5**s * P_inv_U5)[0, 0]).subs(s, g)"
   ]
  }
 ],
 "metadata": {
  "kernelspec": {
   "display_name": "Python 3 (ipykernel)",
   "language": "python",
   "name": "python3"
  },
  "language_info": {
   "codemirror_mode": {
    "name": "ipython",
    "version": 3
   },
   "file_extension": ".py",
   "mimetype": "text/x-python",
   "name": "python",
   "nbconvert_exporter": "python",
   "pygments_lexer": "ipython3",
   "version": "3.9.16"
  }
 },
 "nbformat": 4,
 "nbformat_minor": 5
}
